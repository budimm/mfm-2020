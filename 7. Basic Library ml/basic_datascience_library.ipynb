{
 "cells": [
  {
   "cell_type": "markdown",
   "metadata": {},
   "source": [
    "# MFM: Basic Data Science Library\n",
    "\n",
    "Aktivitas yang paling sering dilakukan oleh data scientist ataupun data analyst melakukan **eksplorasi data**. Untuk melakukannya, data scientist umumnya tidak cukup hanya menggunakan *built-in library*, diperlukan *third-party library* yang harus dipasang. Beberapa *library* yang umum digunakan seperti:\n",
    "\n",
    "1. NumPy\n",
    "2. Pandas\n",
    "3. Matplotlib\n",
    "4. Seaborn\n",
    "\n",
    "Oleh karena itu, kita akan berkenalan dengan 4 *library* di atas dan mencoba melakukan data eksplorasi pada dataset publik."
   ]
  },
  {
   "cell_type": "markdown",
   "metadata": {},
   "source": [
    "## Outline\n",
    "\n",
    "1. Intro to NumPy, Pandas, Matplotlib, & Seaborn\n",
    "\n",
    "    1.1. The Power of NumPy\n",
    "\n",
    "    1.2. Pandas Is All You Need\n",
    "\n",
    "    1.3. Visualizing Data with Matplotlib & Seaborn\n",
    "\n",
    "2. Exploratory Data Analysis: [Stackoverflow Survey 2020](https://insights.stackoverflow.com/survey/)"
   ]
  },
  {
   "cell_type": "code",
   "execution_count": null,
   "metadata": {},
   "outputs": [],
   "source": [
    "# import things\n",
    "import matplotlib.pyplot as plt\n",
    "import numpy as np\n",
    "import pandas as pd\n",
    "import seaborn as sns"
   ]
  },
  {
   "cell_type": "markdown",
   "metadata": {},
   "source": [
    "## 1. Intro to NumPy, Pandas, Matplotlib, & Seaborn\n",
    "\n",
    "Sebelum kita mulai menggunakan ke-4 *library* ini, pastikan semuanya sudah terpasang. Kita bisa cek menjalankan perintah berikut pada cell baru:\n",
    "\n",
    "```bash\n",
    "!pip list | grep -E \"numpy|matplotlib|pandas|seaborn\"\n",
    "```\n",
    "\n",
    "Perintah di atas akan menampilkan nama *library* beserta angka *version* yang terpasang. Jika belum, kita bisa pasang menggunakan perintah:\n",
    "\n",
    "```bash\n",
    "!pip install numpy matplotlib pandas seaborn\n",
    "```"
   ]
  },
  {
   "cell_type": "code",
   "execution_count": null,
   "metadata": {},
   "outputs": [],
   "source": [
    "# uncomment below code to check installed packages\n",
    "#!pip list | grep -E \"numpy|matplotlib|pandas|seaborn\""
   ]
  },
  {
   "cell_type": "code",
   "execution_count": null,
   "metadata": {},
   "outputs": [],
   "source": [
    "# uncomment below code to install necessary packages, if you haven't\n",
    "#!pip install numpy matplotlib pandas seaborn"
   ]
  },
  {
   "cell_type": "markdown",
   "metadata": {},
   "source": [
    "Untuk kemudahan, kita bisa memasang package yang ditulis dalam file `requirements.txt` dengan perintah `!pip install -r requirements.txt`."
   ]
  },
  {
   "cell_type": "markdown",
   "metadata": {},
   "source": [
    "### 1.1. The Power of NumPy\n",
    "\n",
    "> [NumPy](https://numpy.org/) is an open source project aiming to enable numerical computing with Python. It was created in 2005, building on the early work of the Numerical and Numarray libraries - [numpy official site](https://numpy.org/about/)\n",
    "\n",
    "Dari definisi resmi di atas, kita sudah paham bahwa NumPy adalah sebuah package yang digunakan untuk **komputasi numerik**.\n",
    "\n",
    "#### Why NumPy (instead of built-in List)?\n",
    "\n",
    "Dengan menggunakan NumPy array, kita bisa melakukan operasi matematika yang tidak bisa dilakukan oleh List. Selain itu, NumPy array lebih cepat daripada List ([*referensi*](https://towardsdatascience.com/how-fast-numpy-really-is-e9111df44347#:~:text=Even%20for%20the%20delete%20operation,also%20frees%20the%20memory%20faster.))."
   ]
  },
  {
   "cell_type": "markdown",
   "metadata": {},
   "source": [
    "#### Array\n",
    "\n",
    "![](https://numpy.org/devdocs/_images/np_array.png)\n",
    "[*Source*](https://numpy.org/devdocs/user/absolute_beginners.html#how-to-create-a-basic-array)\n",
    "\n",
    "Array adalah struktur data utama dalam NumPy. NumPy array juga mengonsumsi lebih sedikit memori dan mempunyai mekanisme menentukan tipe data ([*referensi*](https://numpy.org/devdocs/user/absolute_beginners.html#what-is-an-array))."
   ]
  },
  {
   "cell_type": "code",
   "execution_count": null,
   "metadata": {},
   "outputs": [],
   "source": [
    "arr_1 = np.array([1, 2, 3])\n",
    "arr_1"
   ]
  },
  {
   "cell_type": "code",
   "execution_count": null,
   "metadata": {},
   "outputs": [],
   "source": [
    "type(arr_1)"
   ]
  },
  {
   "cell_type": "markdown",
   "metadata": {},
   "source": [
    "> `numpy.ndarray` adalah sebuah *class* yang merepresentasikan vektor dan juga matriks"
   ]
  },
  {
   "cell_type": "code",
   "execution_count": null,
   "metadata": {},
   "outputs": [],
   "source": [
    "# dimensi array\n",
    "arr_1.shape"
   ]
  },
  {
   "cell_type": "markdown",
   "metadata": {},
   "source": [
    "**Vektor** adalah array berdimensi satu (vektor baris = vektor kolom), sedangkan **matriks** adalah array berdimensi dua."
   ]
  },
  {
   "cell_type": "code",
   "execution_count": null,
   "metadata": {},
   "outputs": [],
   "source": [
    "arr_2 = np.array([[0, 1, 2], [1, 2, 3]])\n",
    "arr_2"
   ]
  },
  {
   "cell_type": "code",
   "execution_count": null,
   "metadata": {},
   "outputs": [],
   "source": [
    "arr_2.shape"
   ]
  },
  {
   "cell_type": "markdown",
   "metadata": {},
   "source": [
    "#### Pembuatan Array Otomatis\n",
    "\n",
    "Selain dengan `np.array`, kita juga bisa membuat array secara otomatis dengan nilai dan pola tertentu."
   ]
  },
  {
   "cell_type": "code",
   "execution_count": null,
   "metadata": {},
   "outputs": [],
   "source": [
    "arr_zeros = np.zeros((3, 3))\n",
    "arr_zeros"
   ]
  },
  {
   "cell_type": "code",
   "execution_count": null,
   "metadata": {},
   "outputs": [],
   "source": [
    "arr_ones = np.ones((2, 2))\n",
    "arr_ones"
   ]
  },
  {
   "cell_type": "code",
   "execution_count": null,
   "metadata": {},
   "outputs": [],
   "source": [
    "arr_empty = np.empty(2)\n",
    "arr_empty"
   ]
  },
  {
   "cell_type": "code",
   "execution_count": null,
   "metadata": {},
   "outputs": [],
   "source": [
    "arr_arange = np.arange(start=-3, stop=4, step=1)\n",
    "arr_arange"
   ]
  },
  {
   "cell_type": "code",
   "execution_count": null,
   "metadata": {},
   "outputs": [],
   "source": [
    "arr_space = np.linspace(start=1, stop=2)\n",
    "arr_space"
   ]
  },
  {
   "cell_type": "code",
   "execution_count": null,
   "metadata": {},
   "outputs": [],
   "source": [
    "arr_identity = np.eye(4)\n",
    "arr_identity"
   ]
  },
  {
   "cell_type": "code",
   "execution_count": null,
   "metadata": {},
   "outputs": [],
   "source": [
    "arr_full = np.full((4, 4), 5)\n",
    "arr_full"
   ]
  },
  {
   "cell_type": "markdown",
   "metadata": {},
   "source": [
    "#### Indexing dan Slicing\n",
    "\n",
    "NumPy array juga memberikan kita keleluasaan untuk mengambil sebagian nilai dalam suatu array.\n",
    "\n",
    "![](https://www.oreilly.com/library/view/python-for-data/9781449323592/httpatomoreillycomsourceoreillyimages2172112.png)\n",
    "[*Source*](https://www.oreilly.com/library/view/python-for-data/9781449323592/ch04.html)"
   ]
  },
  {
   "cell_type": "code",
   "execution_count": null,
   "metadata": {},
   "outputs": [],
   "source": [
    "arr_2"
   ]
  },
  {
   "cell_type": "code",
   "execution_count": null,
   "metadata": {},
   "outputs": [],
   "source": [
    "print(\"row 0:\", arr_2[0, ...])    # atau arr_2[2, ...] = arr_2[2, :]\n",
    "print(\"row 1:\", arr_2[1, :])"
   ]
  },
  {
   "cell_type": "code",
   "execution_count": null,
   "metadata": {},
   "outputs": [],
   "source": [
    "# TODO: ambil semua baris pada kolom 0 dan kolom 1\n",
    "print(arr_2[...])\n",
    "\n",
    "# TODO: ambil dari `arr_2` sehingga jadi [[3, 1], [2, 0]]\n",
    "print(arr_2[...])"
   ]
  },
  {
   "cell_type": "markdown",
   "metadata": {},
   "source": [
    "#### Fungsi yang Sering Digunakan\n",
    "\n",
    "Beberapa fungsi yang sering digunakan saat eksplorasi data."
   ]
  },
  {
   "cell_type": "markdown",
   "metadata": {},
   "source": [
    "**Pengambilan sampel acak**: `np.random`"
   ]
  },
  {
   "cell_type": "code",
   "execution_count": null,
   "metadata": {},
   "outputs": [],
   "source": [
    "arr_random = np.random.rand(5, 5)    # bilangan acak berdistribusi uniform dengan ukuran 5x5\n",
    "arr_random"
   ]
  },
  {
   "cell_type": "code",
   "execution_count": null,
   "metadata": {},
   "outputs": [],
   "source": [
    "arr_randn = np.random.randn(4, 10)\n",
    "arr_randn"
   ]
  },
  {
   "cell_type": "code",
   "execution_count": null,
   "metadata": {},
   "outputs": [],
   "source": [
    "arr_randint = np.random.randint(low=-10, high=10, size=(2, 3))\n",
    "arr_randint"
   ]
  },
  {
   "cell_type": "markdown",
   "metadata": {},
   "source": [
    "> <span style=\"color: red\">! NEW API !</span> Sebagai catatan, versi terbaru NumPy menyarankan untuk menggunakan `np.random.default_rng()` setiap kali kita ingin membangkitkan bilangan acak."
   ]
  },
  {
   "cell_type": "markdown",
   "metadata": {},
   "source": [
    "**Pengubahan ukuran array**: `np.reshape`, `arr.flatten`"
   ]
  },
  {
   "cell_type": "code",
   "execution_count": null,
   "metadata": {},
   "outputs": [],
   "source": [
    "print(\"ukuran array:\", arr_randn.shape)\n",
    "\n",
    "arr_randn_2 = arr_randn.reshape(5, 8)    # atau dengan np.reshape\n",
    "print(\"ukuran array baru:\", arr_randn_2.shape)\n",
    "print(arr_randn_2)"
   ]
  },
  {
   "cell_type": "code",
   "execution_count": null,
   "metadata": {},
   "outputs": [],
   "source": [
    "arr_flatten = arr_randn.flatten()\n",
    "print(\"ukuran array flatten:\", arr_flatten.shape)\n",
    "print(arr_flatten)"
   ]
  },
  {
   "cell_type": "markdown",
   "metadata": {},
   "source": [
    "**Penggabungan array**: `np.concatenate`"
   ]
  },
  {
   "cell_type": "code",
   "execution_count": null,
   "metadata": {},
   "outputs": [],
   "source": [
    "arr_randint_2 = np.concatenate([arr_randint, arr_randint[-1].reshape(1, arr_randint.shape[1])*-1])\n",
    "arr_randint_2"
   ]
  },
  {
   "cell_type": "code",
   "execution_count": null,
   "metadata": {},
   "outputs": [],
   "source": [
    "arr_ero = np.concatenate([np.eye(arr_randint_2.shape[0]), arr_randint_2], axis=1)\n",
    "arr_ero"
   ]
  },
  {
   "cell_type": "markdown",
   "metadata": {},
   "source": [
    "**Pengurutan**: `np.sort`"
   ]
  },
  {
   "cell_type": "code",
   "execution_count": null,
   "metadata": {},
   "outputs": [],
   "source": [
    "np.sort(arr_2)    # mengurutkan nilai column-wise (default)"
   ]
  },
  {
   "cell_type": "code",
   "execution_count": null,
   "metadata": {},
   "outputs": [],
   "source": [
    "np.sort(arr_2, axis=0)"
   ]
  },
  {
   "cell_type": "markdown",
   "metadata": {},
   "source": [
    "#### Mathematical Formula\n",
    "\n",
    "Salah satu keunggulan NumPy array adalah kemampuannya untuk melakukan komputasi numerik dengan cepat. Mari kita coba menghitung nilai MSE dengan NumPy array.\n",
    "\n",
    "<img src=\"https://numpy.org/devdocs/_images/np_MSE_formula.png\" style=\"width: 50%\"/>\n",
    "\n",
    "[*Source*](https://numpy.org/devdocs/user/absolute_beginners.html#working-with-mathematical-formulas)"
   ]
  },
  {
   "cell_type": "code",
   "execution_count": null,
   "metadata": {},
   "outputs": [],
   "source": [
    "generator = np.random.default_rng(41)\n",
    "\n",
    "y = generator.random((1, 10))\n",
    "print(y)\n",
    "\n",
    "yhat = generator.random((1, 10))\n",
    "print(yhat)"
   ]
  },
  {
   "cell_type": "code",
   "execution_count": null,
   "metadata": {},
   "outputs": [],
   "source": [
    "# TODO: hitung nilai MSE dengan fungsi numpy\n",
    "mse = ..."
   ]
  },
  {
   "cell_type": "markdown",
   "metadata": {},
   "source": [
    "### 1.2. Pandas Is All You Need\n",
    "\n",
    "> pandas is a software library written for the Python programming language for **data manipulation** and **analysis**. In particular, it offers data structures and operations for manipulating numerical tables and time series - [wikipedia](https://en.wikipedia.org/wiki/Pandas_(software))\n",
    "\n",
    "[Pandas](https://pandas.pydata.org/) (dari *panel data*) berfungsi sebagai pondasi dasar tingkat tinggi untuk melakukan analisis data secara praktis ([*source*](https://pandas.pydata.org/about/)). Perbedaan dengan NumPy adalah pandas didesain untuk bekerja dengan data tabular atau heterogen, sedangkan NumPy didesain untuk bekerja dengan data numerik homogen."
   ]
  },
  {
   "cell_type": "markdown",
   "metadata": {},
   "source": [
    "## Series\n",
    "\n",
    "**Series** adalah struktur data berdimensi satu (seperti array 1 dimensi pada NumPy) yang memiliki sebuah label yang biasa disebut ***index***.\n",
    "\n",
    "![](https://pandas.pydata.org/docs/_images/01_table_series.svg)\n",
    "[*Source*](https://pandas.pydata.org/docs/getting_started/intro_tutorials/01_table_oriented.html#each-column-in-a-dataframe-is-a-series)"
   ]
  },
  {
   "cell_type": "code",
   "execution_count": null,
   "metadata": {},
   "outputs": [],
   "source": [
    "series_1 = pd.Series([-3, -2, -1, 0, 1, 2, 3])"
   ]
  },
  {
   "cell_type": "code",
   "execution_count": null,
   "metadata": {},
   "outputs": [],
   "source": [
    "series_1"
   ]
  },
  {
   "cell_type": "code",
   "execution_count": null,
   "metadata": {},
   "outputs": [],
   "source": [
    "series_1.name = \"integers\""
   ]
  },
  {
   "cell_type": "code",
   "execution_count": null,
   "metadata": {},
   "outputs": [],
   "source": [
    "series_1"
   ]
  },
  {
   "cell_type": "code",
   "execution_count": null,
   "metadata": {},
   "outputs": [],
   "source": [
    "print(\"index:\", series_1.index)\n",
    "\n",
    "# ubah index dengan alfabet\n",
    "series_1.index = [\"a\", \"b\", \"c\", \"d\", \"e\", \"f\", \"g\"]\n",
    "\n",
    "print(\"index baru:\", series_1.index)"
   ]
  },
  {
   "cell_type": "code",
   "execution_count": null,
   "metadata": {},
   "outputs": [],
   "source": [
    "series_1"
   ]
  },
  {
   "cell_type": "code",
   "execution_count": null,
   "metadata": {},
   "outputs": [],
   "source": [
    "dict_population = {\"Texas\": 71000, \"Oregon\": 16000, \"Ohio\": 35000, \"Utah\": 500}\n",
    "states = [\"California\", \"Texas\", \"Ohio\", \"Utah\"]\n",
    "s_population = pd.Series(dict_population, index=states, name=\"population\")"
   ]
  },
  {
   "cell_type": "code",
   "execution_count": null,
   "metadata": {},
   "outputs": [],
   "source": [
    "s_population"
   ]
  },
  {
   "cell_type": "markdown",
   "metadata": {},
   "source": [
    "## DataFrame\n",
    "\n",
    "**DataFrame** merepresentasikan sebuah data berbentuk tabel yang terdiri dari beberapa **kolom** dengan tipe data tertentu dan **baris** dengan *index*-nya.\n",
    "\n",
    "![](https://pandas.pydata.org/docs/_images/01_table_dataframe.svg)\n",
    "[*Source*](https://pandas.pydata.org/docs/getting_started/intro_tutorials/01_table_oriented.html#min-tut-01-tableoriented)"
   ]
  },
  {
   "cell_type": "code",
   "execution_count": null,
   "metadata": {},
   "outputs": [],
   "source": [
    "df_marvel = pd.DataFrame({\n",
    "    \"Name\": [\"Tony Stark\", \"Strange\", \"Peter Parker\", \"Natasha\"],\n",
    "    \"Age\": [35, 34, 22, 30],\n",
    "    \"Sex\": [\"Male\", \"Male\", \"Male\", \"Female\"]\n",
    "})\n",
    "df_marvel"
   ]
  },
  {
   "cell_type": "code",
   "execution_count": null,
   "metadata": {},
   "outputs": [],
   "source": [
    "df_array = pd.DataFrame(arr_ero)\n",
    "df_array"
   ]
  },
  {
   "cell_type": "code",
   "execution_count": null,
   "metadata": {},
   "outputs": [],
   "source": [
    "col_array = [\"eye_0\", \"eye_1\", \"eye_2\", \"val_0\", \"val_1\", \"val_2\"]\n",
    "df_array = pd.DataFrame(arr_ero, columns=col_array)\n",
    "df_array"
   ]
  },
  {
   "cell_type": "code",
   "execution_count": null,
   "metadata": {},
   "outputs": [],
   "source": [
    "print(\"Nama kolom:\", df_array.columns)\n",
    "print(\"Nama index:\", df_array.index)"
   ]
  },
  {
   "cell_type": "markdown",
   "metadata": {},
   "source": [
    "Seperti NumPy array, kita bisa mendapatkan ukuran dari sebuah DataFrame/Series dengan variabel `shape`."
   ]
  },
  {
   "cell_type": "code",
   "execution_count": null,
   "metadata": {},
   "outputs": [],
   "source": [
    "n_row, n_col = df_array.shape\n",
    "print(\"Jumlah baris:\", n_row)\n",
    "print(\"Jumlah kolom:\", n_col)"
   ]
  },
  {
   "cell_type": "markdown",
   "metadata": {},
   "source": [
    "## Membaca File\n",
    "\n",
    "Salah satu keunggulan Pandas adalah kemampuan untuk membaca sebuah file data dan menampilkannya dalam format DataFrame. Pandas menyediakan beberapa function untuk membaca file sesuai dengan [formatnya](https://pandas.pydata.org/pandas-docs/stable/reference/io.html), `read_csv` untuk file `.csv`, `read_excel` untuk file Excel, `read_gbq` untuk membaca tabel dari Google BigQuery, dan lainnya. Sebagai contoh, kita coba baca sebuah data [covid](https://www.kaggle.com/ardisragen/indonesia-coronavirus-cases) di Indonesia.\n",
    "\n",
    "Kita asumsikan data ada dalam direktori `data/covid-id/` relatif terhadap file notebook."
   ]
  },
  {
   "cell_type": "code",
   "execution_count": null,
   "metadata": {},
   "outputs": [],
   "source": [
    "df_patient = pd.read_csv(\"data/covid-id/patient.csv\")"
   ]
  },
  {
   "cell_type": "code",
   "execution_count": null,
   "metadata": {},
   "outputs": [],
   "source": [
    "df_patient.head()    # menampilkan pratinjau 5 baris pertama data"
   ]
  },
  {
   "cell_type": "code",
   "execution_count": null,
   "metadata": {},
   "outputs": [],
   "source": [
    "df_patient.tail()    # menampilkan pratinjau 5 baris terakhir data"
   ]
  },
  {
   "cell_type": "markdown",
   "metadata": {},
   "source": [
    "Jika data berhasil dibaca dengan benar, kita akan temui beberapa kolom dengan nilai `NaN` atau singkatan dari *Not a number*. Jenis nilai ini diturunkan dari NumPy array (`np.nan`) yang juga digunakan dalam Pandas. Salah satu method yang bisa kita gunakann untuk mendapatkan pratinjau keseluruhan tipe data tiap kolom pada DataFrame adalah `info`."
   ]
  },
  {
   "cell_type": "markdown",
   "metadata": {},
   "source": [
    "#### Ringkasan DataFrame"
   ]
  },
  {
   "cell_type": "code",
   "execution_count": null,
   "metadata": {},
   "outputs": [],
   "source": [
    "df_patient.info()"
   ]
  },
  {
   "cell_type": "markdown",
   "metadata": {},
   "source": [
    "Informasi di atas menjelaskan beberapa hal:\n",
    "\n",
    "1. `RangeIndex: 893 entries, 0 to 892` menjelaskan bahwa terdapat **893** baris dengann indeks 0 sampai 892.\n",
    "2. `Data columns (total 11 columns):` menjelaskan terdapat total 11 kolom yang diikuti informasi tiap kolom di bawahnya\n",
    "3. Pada tabel di atas, kolom paling kanan, `Dtype` menjelaskan tipe data yang ada pada masing-masing kolom. Beberapa tipe data yang didukung oleh Pandas bisa dilihat di [sini](https://pandas.pydata.org/pandas-docs/stable/getting_started/basics.html#dtypes).\n",
    "4. Kolom kedua dari kanan merepresentasikan jumlah nilai `non-null` atau nilai yang bukan `NaN` atau `NaT` (nilai N/A untuk tipe data `datetime`).\n",
    "5. Dua kolom paling kiri sudah jelas menjelaskan nama kolom serta indeks kolom.\n",
    "\n",
    "Dari informasi yang disediakan oleh method `info` di atas, kita sudah bisa membuat pertanyaan-pertanyaan awal seperti:\n",
    "* Kolom mana saja yang memiliki *missing value*? **...**\n",
    "* Berapa persentase *missing value* pada masing-masing kolom? **...**\n",
    "* Apakah semua kolom sudah berasosiasi dengan tipe data yang benar? **...**"
   ]
  },
  {
   "cell_type": "code",
   "execution_count": null,
   "metadata": {},
   "outputs": [],
   "source": [
    "cols_with_missing = df_patient.columns[df_patient.isna().any()].tolist()\n",
    "cols_without_missing = df_patient.columns[df_patient.notna().all()].tolist()\n",
    "\n",
    "print(\"Kolom dengan missing value:\", cols_with_missing)\n",
    "print(\"Kolom tanpa missing value:\", cols_without_missing)"
   ]
  },
  {
   "cell_type": "code",
   "execution_count": null,
   "metadata": {},
   "outputs": [],
   "source": [
    "# TODO: hitung persentase missing value tiap kolom\n",
    "..."
   ]
  },
  {
   "cell_type": "code",
   "execution_count": null,
   "metadata": {},
   "outputs": [],
   "source": [
    "df_patient[\"confirmed_date\"].astype(\"datetime64[ns, Asia/Jakarta]\")    # belum tersimpan"
   ]
  },
  {
   "cell_type": "code",
   "execution_count": null,
   "metadata": {},
   "outputs": [],
   "source": [
    "df_patient[\"confirmed_date\"]"
   ]
  },
  {
   "cell_type": "code",
   "execution_count": null,
   "metadata": {},
   "outputs": [],
   "source": [
    "df_patient[\"confirmed_time\"] = df_patient[\"confirmed_date\"].astype(\"datetime64[ns, Asia/Jakarta]\")\n",
    "df_patient.head(10)"
   ]
  },
  {
   "cell_type": "code",
   "execution_count": null,
   "metadata": {},
   "outputs": [],
   "source": [
    "# TODO: ubah tipe data kolom `released_date` dan `deceased_date` ke dalam tipe data yang seharusnya\n",
    "..."
   ]
  },
  {
   "cell_type": "markdown",
   "metadata": {},
   "source": [
    "Selain method `info`, Pandas juga menyediakan function untuk menunjukkan *statistics summary* sesuai dengan tipe data tiap kolom, yaitu [*`describe`*](https://pandas.pydata.org/pandas-docs/stable/reference/api/pandas.DataFrame.describe.html)."
   ]
  },
  {
   "cell_type": "code",
   "execution_count": null,
   "metadata": {},
   "outputs": [],
   "source": [
    "df_patient.describe()    # stats summary untuk kolom bertipe data numerik"
   ]
  },
  {
   "cell_type": "code",
   "execution_count": null,
   "metadata": {},
   "outputs": [],
   "source": [
    "df_patient.describe(exclude=\"number\")    # stats summary untuk kolom-kolom selain kolom numerik"
   ]
  },
  {
   "cell_type": "markdown",
   "metadata": {},
   "source": [
    "Dari ringkasan statistik di atas, ada 2 kolom dengan persentase *missing value* yang sangat besar, yaitu `released_date` dan `deceased_date`. Ada 2 cara untuk menangani *missing value* pada suatu data, yaitu kita bisa *drop* kolom atau baris dengan *missing value* tersebut atau kita bisa beri nilai berdasarkan rata-rata, median, modus, atau cara lain, sesuai dengan kebutuhan. Untuk kali ini, karena tujuan kita adalah eksplorasi data, kita bisa \"buang\" 2 kolom tersebut dengan method `drop` atau `dropna`.\n",
    "\n",
    "> `drop` mengizinkan kita untuk membuang data dengan menentukan baris atau kolom yang hendak dibuang. Sedangkan, `dropna` akan membuang baris atau kolom berdasarkan kondisi ada atau tidaknnya *missing value* pada baris atau kolom tersebut."
   ]
  },
  {
   "cell_type": "code",
   "execution_count": null,
   "metadata": {},
   "outputs": [],
   "source": [
    "df_patient.drop(columns=[\"released_date\", \"deceased_date\"])"
   ]
  },
  {
   "cell_type": "markdown",
   "metadata": {},
   "source": [
    "---\n",
    "\n",
    "Selanjutnya, kita akan coba membaca data dari file Excel, yaitu data kasus harian covid19 di kabupaten kutai timur yang bisa diunduh melalui [Satu Data](https://data.go.id/dataset/data-kasus-harian-covid19)."
   ]
  },
  {
   "cell_type": "code",
   "execution_count": null,
   "metadata": {},
   "outputs": [],
   "source": [
    "df_kutai = pd.read_excel(\"data/covid-id/covid-kutai-timur.xlsx\")"
   ]
  },
  {
   "cell_type": "code",
   "execution_count": null,
   "metadata": {},
   "outputs": [],
   "source": [
    "df_kutai.describe()"
   ]
  },
  {
   "cell_type": "code",
   "execution_count": null,
   "metadata": {},
   "outputs": [],
   "source": [
    "# TODO:\n",
    "# 1. Tampilkan jumlah baris dan kolom dari data\n",
    "# 2. Tampilkan 10 baris pertama dan terakhir data\n",
    "# 3. Tampilkan ringkasan informasi dari data\n",
    "# 4. Tampilkan statistics summary dari data"
   ]
  },
  {
   "cell_type": "markdown",
   "metadata": {},
   "source": [
    "Terdapat kolom `Kategori` yang berisi nilai dengan tipe data `object`. Kita bisa mendapatkan ragam nilai dalam kolom tersebut dengan menggunakan method `nunique`, `unique`, dan `value_counts`."
   ]
  },
  {
   "cell_type": "code",
   "execution_count": null,
   "metadata": {},
   "outputs": [],
   "source": [
    "print(\"Jumlah jenis nilai dalam kolom Kategori:\", df_kutai[\"Kategori\"].nunique())"
   ]
  },
  {
   "cell_type": "code",
   "execution_count": null,
   "metadata": {},
   "outputs": [],
   "source": [
    "print(\"Ragam nilai dalam kolom Kategori:\", df_kutai[\"Kategori\"].unique())"
   ]
  },
  {
   "cell_type": "code",
   "execution_count": null,
   "metadata": {},
   "outputs": [],
   "source": [
    "print(\"Frekuensi kemunculan tiap nilai dalam Kategori:\", df_kutai[\"Kategori\"].value_counts())"
   ]
  },
  {
   "cell_type": "code",
   "execution_count": null,
   "metadata": {},
   "outputs": [],
   "source": [
    "# TODO: Dapatkan frekuensi kemunculan tanggal pada kolom `Date`"
   ]
  },
  {
   "cell_type": "markdown",
   "metadata": {},
   "source": [
    "Sekarang, kita coba tampilkan seluruh data pada tanggal `2020-03-22` dan `2020-03-23`."
   ]
  },
  {
   "cell_type": "code",
   "execution_count": null,
   "metadata": {},
   "outputs": [],
   "source": [
    "df_kutai.loc[df_kutai[\"Date\"]==\"2020-03-22\"]"
   ]
  },
  {
   "cell_type": "code",
   "execution_count": null,
   "metadata": {},
   "outputs": [],
   "source": [
    "df_kutai.loc[df_kutai[\"Date\"]==\"2020-03-23\"]"
   ]
  },
  {
   "cell_type": "markdown",
   "metadata": {},
   "source": [
    "Ternyata, setiap tanggal berasosiasis dengan `total_odp`, `total_pdp`, `total_terkonfirmasi`, `total_meninggal`, dan `total_sembuh`. Sehingga, kita bisa asumsikan bahwa jumlah baris dalam data tidak merepresentasikan jumlah data sebenarnya, yaitu data per hari. Kita bisa melakukan perubahan terhadap data sehingga data baru memiiliki bentuk seperti:\n",
    "\n",
    "| Date | total_odp | total_pdp | total_terkonfirmasi | total_meninggal | total_sembuh |\n",
    "| ----: | ---------: | ---------: | -------------------: | ---------------: | ------------: |\n",
    "| 2020-03-23 | 112.0 | 3.0 | 2.0 | 0.0 | 0.0 |\n",
    "| ... | ... | ... | ... | ... | ... |\n",
    "\n",
    "Untuk melakukan ini, kita bisa menggunakan method [*`pivot`*](https://pandas.pydata.org/pandas-docs/stable/reference/api/pandas.DataFrame.pivot.html#pandas.DataFrame.pivot) atau [*`pivot_table`*](https://pandas.pydata.org/pandas-docs/stable/reference/api/pandas.DataFrame.pivot_table.html#pandas.DataFrame.pivot_table)."
   ]
  },
  {
   "cell_type": "code",
   "execution_count": null,
   "metadata": {},
   "outputs": [],
   "source": [
    "df_kutai.pivot(index=\"Date\", columns=\"Kategori\", values=\"total\")"
   ]
  },
  {
   "cell_type": "code",
   "execution_count": null,
   "metadata": {},
   "outputs": [],
   "source": [
    "pd.pivot_table(df_kutai, values=\"total\", index=\"Date\", columns=\"Kategori\")"
   ]
  },
  {
   "cell_type": "code",
   "execution_count": null,
   "metadata": {},
   "outputs": [],
   "source": [
    "pivot_kutai = df_kutai.pivot(index=\"Date\", columns=\"Kategori\", values=\"total\").reset_index().rename_axis(None, axis=1)\n",
    "pivot_kutai.head(10)"
   ]
  },
  {
   "cell_type": "markdown",
   "metadata": {},
   "source": [
    "Dalam dataframe `df_kutai`, sekilas memang terdapat banyak duplikasi data. Tapi karena kita tahu representasi satu data dengan nilai `Date` atau `Kategori` yang sama berbeda, kita bisa langsung menggunakan `pivot` untuk membuat dataframe baru yang lebih representatif. Akan tetapi, kita mungkin akan menjumpai dataframe yang memiliki data yang nilai pada tiap kolomnya sama. Kita bisa cek kondisi seperti ini dengan method `duplicated`."
   ]
  },
  {
   "cell_type": "code",
   "execution_count": null,
   "metadata": {},
   "outputs": [],
   "source": [
    "df_kutai.duplicated(subset=\"Date\")"
   ]
  },
  {
   "cell_type": "code",
   "execution_count": null,
   "metadata": {},
   "outputs": [],
   "source": [
    "df_kutai[~df_kutai.duplicated(subset=\"Date\")]"
   ]
  },
  {
   "cell_type": "code",
   "execution_count": null,
   "metadata": {},
   "outputs": [],
   "source": [
    "df_kutai.drop_duplicates(subset=\"Date\")"
   ]
  },
  {
   "cell_type": "markdown",
   "metadata": {},
   "source": [
    "### 1.3. Visualizing Data with Matplotlib & Seaborn\n",
    "\n",
    "Visualisasi data sebenanrya sebagian seni dan sebagian lagi sains. Tantangannya adalah bagaimana menghasilkan visual (seni) yang benar tanpa merusak sains dalam data dan sebaliknya. Visualisasi bisa kita bagi menjadi **just right**, **ugly**, **bad**, dan **wrong** ([*referensi*](https://serialmentor.com/dataviz/introduction.html)).\n",
    "\n",
    "<img src=\"https://serialmentor.com/dataviz/introduction_files/figure-html/ugly-bad-wrong-examples-1.png\" style=\"width: 50%\"/>\n",
    "\n",
    "> “Matplotlib is a Python 2D plotting library which produces publication quality figures in a variety of hardcopy formats and interactive environments across platforms. Matplotlib can be used in Python scripts, the Python and IPython shells, the Jupyter notebook, web application servers, and four graphical user interface toolkits.” - [TDS](https://medium.com/analytics-vidhya/a-beginners-guide-to-matplotlib-for-data-visualization-and-exploration-in-python-3fb32d03c3cd)\n",
    "\n",
    "\n",
    "Sebagai latihan untuk visualisasi data, kita akan menggunakan data dari [*Food Demand Forecasting*](https://datahack.analyticsvidhya.com/contest/genpact-machine-learning-hackathon-1/). Pertama, kita coba baca data dari file `data/food-demand-forecasting/`. Ada 3 data yang akan kita muat:\n",
    "\n",
    "1. `fulfilment_center_info.csv`: informasi tentang dapur kota (*fulfilment center*)\n",
    "2. `meal_info.csv`: informasi tentang makanan yang disediakan\n",
    "3. `train.csv` atau `food_demand.csv`: histori data permintaan makanan\n",
    "\n",
    "**Perlu diketahui, tujuan kita bukan untuk membuat model machine learning, tapi eksplorasi data yang dibantu dengan visualisasi.**"
   ]
  },
  {
   "cell_type": "code",
   "execution_count": null,
   "metadata": {},
   "outputs": [],
   "source": [
    "df_center = pd.read_csv(\"data/food-demand-forecasting/fulfilment_center_info.csv\")\n",
    "df_center.head()"
   ]
  },
  {
   "cell_type": "code",
   "execution_count": null,
   "metadata": {},
   "outputs": [],
   "source": [
    "df_meal = pd.read_csv(\"data/food-demand-forecasting/meal_info.csv\")\n",
    "df_meal.head()"
   ]
  },
  {
   "cell_type": "code",
   "execution_count": null,
   "metadata": {},
   "outputs": [],
   "source": [
    "df_demand = pd.read_csv(\"data/food-demand-forecasting/food_demand.csv\")\n",
    "df_demand.head()"
   ]
  },
  {
   "cell_type": "markdown",
   "metadata": {},
   "source": [
    "Pada `df_demand`, kolom `center_id` dan `meal_id` berturut-turut merepresentasikan *identifier* pada `df_center` dan `df_meal`. Daripada kita harus melihat 3 tabel sepanjang melakukan eksplorasi, kita bisa menggabungkan ketiga data ini menjadi satu tabel berdasarkan `center_id` dan `meal_id` menggunakan method [*`merge`*](https://pandas.pydata.org/pandas-docs/stable/reference/api/pandas.DataFrame.merge.html) dari Pandas."
   ]
  },
  {
   "cell_type": "code",
   "execution_count": null,
   "metadata": {},
   "outputs": [],
   "source": [
    "df = pd.merge(df_demand, df_center, on=\"center_id\")\n",
    "df.head()"
   ]
  },
  {
   "cell_type": "code",
   "execution_count": null,
   "metadata": {},
   "outputs": [],
   "source": [
    "df = pd.merge(df, df_meal, on=\"meal_id\")\n",
    "df.head()"
   ]
  },
  {
   "cell_type": "markdown",
   "metadata": {},
   "source": [
    "#### What to Visualize\n",
    "\n",
    "Ada beberapa jenis visualisasi yang bisa dibuat sesuai dengan jenis data dan tujuan yang ingin disampaikan.\n",
    "\n",
    "**Kuantitas**: Bentuk visualisasi yang sering digunakan untuk menunjukkan sebuah *jumlah/kuantitas* dalam suatu kategori adalah **bar plot** (vertikal atau horizontal)\n",
    "\n",
    "<img src=\"https://serialmentor.com/dataviz/directory_of_visualizations_files/figure-html/amounts-1.png\" style=\"width: 50%\"/>\n",
    "\n",
    "[*Source*](https://serialmentor.com/dataviz/directory-of-visualizations.html)\n",
    "\n",
    "Jika terdapat beberapa grup kategori yang ditampilkan nilai jumlahnya, kita bisa membuat **grouped bar** atau **stacked bar**.\n",
    "\n",
    "<img src=\"https://serialmentor.com/dataviz/directory_of_visualizations_files/figure-html/amounts_multi-1.png\" style=\"width: 50%\"/>\n",
    "\n",
    "[*Source*](https://serialmentor.com/dataviz/directory-of-visualizations.html)\n",
    "\n",
    "**Distribusi**: Bentuk visualisasi yang sering digunakan untuk menunjukkan *distribusi* dari suatu kolom adalah *histogram* atau *density plot*.\n",
    "\n",
    "<img src=\"https://serialmentor.com/dataviz/directory_of_visualizations_files/figure-html/single-distributions-1.png\" style=\"width: 50%\"/>\n",
    "\n",
    "[*Source*](https://serialmentor.com/dataviz/directory-of-visualizations.html)\n",
    "\n",
    "Jika kita ingin menampilkan beberapa distribusi untuk dibandingkan satu sama lain, kita bisa menggunakan visualisasi seperti *boxplot*, *violins*, dan lainnya seperti contoh di bawah ini.\n",
    "\n",
    "<img src=\"https://serialmentor.com/dataviz/directory_of_visualizations_files/figure-html/multiple-distributions-1.png\" style=\"width: 50%\"/>\n",
    "\n",
    "[*Source*](https://serialmentor.com/dataviz/directory-of-visualizations.html)\n",
    "\n",
    "**Proporsi**: Untuk tujuan proporsi, kita bisa menggunakan beberapa bentuk visualisasi seperti di bawah ini.\n",
    "\n",
    "<img src=\"https://serialmentor.com/dataviz/directory_of_visualizations_files/figure-html/proportions-1.png\" style=\"width: 50%\"/>\n",
    "\n",
    "[*Source*](https://serialmentor.com/dataviz/directory-of-visualizations.html)\n",
    "\n",
    "**Relasi *x-y***: Untuk tujuan ini, kita bisa menggunakan visualisasi seperti *scatter plot*, *line plot*, ataupun juga *bubble chart* (3 variabel). Berikut beberapa contoh visualisasinya.\n",
    "\n",
    "<img src=\"https://serialmentor.com/dataviz/directory_of_visualizations_files/figure-html/basic-scatter-1.png\" style=\"width: 50%\"/>\n",
    "\n",
    "[*Source*](https://serialmentor.com/dataviz/directory-of-visualizations.html)"
   ]
  },
  {
   "cell_type": "markdown",
   "metadata": {},
   "source": [
    "#### Bar Plot\n",
    "\n",
    "Misal kita ingin menunjukkan kategori makanan terpopuler dari semua permintaan makanan pada tiap kota. Kita harus menghitung jumlah permintaan untuk setiap kategori terlebih dahulu menggunakan method `groupby`.\n",
    "\n",
    "Selanjutnya, untuk membuat bar plot, kita gunakan function [`plt.bar`](https://matplotlib.org/3.1.1/api/_as_gen/matplotlib.pyplot.bar.html)."
   ]
  },
  {
   "cell_type": "code",
   "execution_count": null,
   "metadata": {},
   "outputs": [],
   "source": [
    "grouped_category = df.groupby(by=\"category\")"
   ]
  },
  {
   "cell_type": "code",
   "execution_count": null,
   "metadata": {},
   "outputs": [],
   "source": [
    "sum_category_orders = grouped_category.aggregate({\n",
    "    \"num_orders\": np.sum\n",
    "})"
   ]
  },
  {
   "cell_type": "code",
   "execution_count": null,
   "metadata": {},
   "outputs": [],
   "source": [
    "plt.bar(sum_category_orders.index, sum_category_orders[\"num_orders\"])"
   ]
  },
  {
   "cell_type": "code",
   "execution_count": null,
   "metadata": {},
   "outputs": [],
   "source": [
    "# ukuran canvas\n",
    "plt.figure(figsize=(12, 6))\n",
    "\n",
    "plt.bar(sum_category_orders.index, sum_category_orders[\"num_orders\"])\n",
    "\n",
    "# konfigurasi di x-axis\n",
    "plt.xticks(rotation=75)\n",
    "plt.xlabel(\"Food Category\")\n",
    "\n",
    "# konfigurasi di y-axis\n",
    "plt.ylabel(\"Quantity Sold\")\n",
    "\n",
    "# judul plot\n",
    "plt.title(\"Most Popular Food\")\n",
    "\n",
    "plt.show()"
   ]
  },
  {
   "cell_type": "code",
   "execution_count": null,
   "metadata": {},
   "outputs": [],
   "source": [
    "plt.figure(figsize=(12, 6))\n",
    "sns.barplot(sum_category_orders.index, sum_category_orders[\"num_orders\"])\n",
    "plt.xticks(rotation=75)\n",
    "plt.xlabel(\"Food Category\")\n",
    "plt.ylabel(\"Quantity Sold\")\n",
    "plt.title(\"Most Popular Food\")\n",
    "plt.show()"
   ]
  },
  {
   "cell_type": "markdown",
   "metadata": {},
   "source": [
    "#### Pie Chart\n",
    "\n",
    "Mari kita lihat presentase pesanan untuk setiiap *cuisine*."
   ]
  },
  {
   "cell_type": "code",
   "execution_count": null,
   "metadata": {},
   "outputs": [],
   "source": [
    "total_orders = df[\"num_orders\"].sum()\n",
    "dict_cuisine = {\n",
    "    cuisine: df.loc[df['cuisine']==cuisine, \"num_orders\"].sum() / total_orders\n",
    "    for cuisine in df[\"cuisine\"].unique()\n",
    "}"
   ]
  },
  {
   "cell_type": "code",
   "execution_count": null,
   "metadata": {},
   "outputs": [],
   "source": [
    "plt.figure(figsize=(12, 6))\n",
    "plt.pie(\n",
    "    dict_cuisine.values(),\n",
    "    labels=dict_cuisine.keys(),\n",
    "    autopct=\"%.1f\",\n",
    "    explode=[0., 0., .1, 0.]\n",
    ")\n",
    "plt.title(\"Cuisine Share %\")\n",
    "plt.show()"
   ]
  },
  {
   "cell_type": "markdown",
   "metadata": {},
   "source": [
    "#### Histogram\n",
    "\n",
    "Histogram digunakan untuk menampilkan distribusi dari suatu data numerik."
   ]
  },
  {
   "cell_type": "code",
   "execution_count": null,
   "metadata": {},
   "outputs": [],
   "source": [
    "plt.hist(df[\"base_price\"])\n",
    "plt.show()"
   ]
  },
  {
   "cell_type": "code",
   "execution_count": null,
   "metadata": {},
   "outputs": [],
   "source": [
    "plt.figure(figsize=(15, 6))\n",
    "plt.hist(\n",
    "    df[\"base_price\"],\n",
    "    bins=15,\n",
    "    rwidth=.9,\n",
    "    color=\"#F57C01\",\n",
    "    edgecolor=\"blue\"\n",
    ")\n",
    "plt.show()"
   ]
  },
  {
   "cell_type": "code",
   "execution_count": null,
   "metadata": {},
   "outputs": [],
   "source": [
    "plt.figure(figsize=(15, 6))\n",
    "sns.distplot(df[\"base_price\"])\n",
    "plt.show()"
   ]
  },
  {
   "cell_type": "markdown",
   "metadata": {},
   "source": [
    "#### Line Plot\n",
    "\n",
    "*Line plot* sering digunakan untuk menampilkan data tren. Dalam kasus ini, kita akan menggunakan data `pivot_kutai`."
   ]
  },
  {
   "cell_type": "code",
   "execution_count": null,
   "metadata": {},
   "outputs": [],
   "source": [
    "plt.figure(figsize=(15, 6))\n",
    "plt.plot(pivot_kutai[\"Date\"], pivot_kutai[\"total_odp\"], label=\"total_odp\")\n",
    "plt.plot(pivot_kutai[\"Date\"], pivot_kutai[\"total_pdp\"], label=\"total_pdp\")\n",
    "plt.title(\"Pertumbuhan Kasus ODP dan PDP di Kabupaten Kutai Timur\")\n",
    "plt.xlabel(\"Tanggal\")\n",
    "plt.ylabel(\"Total Kasus\")\n",
    "plt.legend()\n",
    "plt.show()"
   ]
  },
  {
   "cell_type": "code",
   "execution_count": null,
   "metadata": {},
   "outputs": [],
   "source": [
    "plt.figure(figsize=(15, 6))\n",
    "sns.lineplot(pivot_kutai[\"Date\"], pivot_kutai[\"total_odp\"], label=\"total_odp\")\n",
    "sns.lineplot(pivot_kutai[\"Date\"], pivot_kutai[\"total_pdp\"], label=\"total_pdp\")\n",
    "plt.show()"
   ]
  },
  {
   "cell_type": "code",
   "execution_count": null,
   "metadata": {},
   "outputs": [],
   "source": [
    "plt.figure(figsize=(18, 9))\n",
    "sns.lineplot(x=\"Date\", y=\"total\", hue=\"Kategori\", data=df_kutai)\n",
    "plt.show()"
   ]
  },
  {
   "cell_type": "markdown",
   "metadata": {},
   "source": [
    "## Stackoverflow 2020 Survey Data Exploration\n",
    "\n",
    "Data survey tahun 2020 (dan tahun-tahun sebelumnya), dapat diakses di [sini](https://insights.stackoverflow.com/survey/)."
   ]
  },
  {
   "cell_type": "code",
   "execution_count": null,
   "metadata": {},
   "outputs": [],
   "source": []
  },
  {
   "cell_type": "markdown",
   "metadata": {},
   "source": [
    "## 📑 Referensi\n",
    "\n",
    "* VanderPlas, J. 2016. [*Python Data Science Handbook: Essential Tools for Working with Data*](https://www.amazon.com/Python-Data-Science-Handbook-Essential/dp/1491912057). O'Reilly.\n",
    "* McKinney,W. 2018. [*Python for Data Analysis: Data Wrangling with Pandas, NumPy, and IPython, 2nd edition,*](https://www.amazon.com/Python-Data-Analysis-Wrangling-IPython-dp-1491957662/dp/1491957662/). O'Reilly.\n",
    "* Wilke, C.O. 2019. [*Fundamentals of Data Visualization: A Primer on Making Informative and Compelling Figures*](https://serialmentor.com/dataviz/). O'Reilly.\n",
    "* [*A Beginner’s Guide to matplotlib for Data Visualization and Exploration in Python*](https://medium.com/analytics-vidhya/a-beginners-guide-to-matplotlib-for-data-visualization-and-exploration-in-python-3fb32d03c3cd). Towards Data Science."
   ]
  }
 ],
 "metadata": {
  "kernelspec": {
   "display_name": "Python 3",
   "language": "python",
   "name": "python3"
  },
  "language_info": {
   "codemirror_mode": {
    "name": "ipython",
    "version": 3
   },
   "file_extension": ".py",
   "mimetype": "text/x-python",
   "name": "python",
   "nbconvert_exporter": "python",
   "pygments_lexer": "ipython3",
   "version": "3.7.7"
  }
 },
 "nbformat": 4,
 "nbformat_minor": 4
}
